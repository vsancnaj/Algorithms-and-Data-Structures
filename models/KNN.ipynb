{
  "nbformat": 4,
  "nbformat_minor": 0,
  "metadata": {
    "colab": {
      "provenance": [],
      "authorship_tag": "ABX9TyOcisAiPKNy6aukmzK4w9oc",
      "include_colab_link": true
    },
    "kernelspec": {
      "name": "python3",
      "display_name": "Python 3"
    },
    "language_info": {
      "name": "python"
    }
  },
  "cells": [
    {
      "cell_type": "markdown",
      "metadata": {
        "id": "view-in-github",
        "colab_type": "text"
      },
      "source": [
        "<a href=\"https://colab.research.google.com/github/vsancnaj/Algorithms-and-Data-Structures/blob/main/models/KNN.ipynb\" target=\"_parent\"><img src=\"https://colab.research.google.com/assets/colab-badge.svg\" alt=\"Open In Colab\"/></a>"
      ]
    },
    {
      "cell_type": "markdown",
      "source": [
        "#Import packages"
      ],
      "metadata": {
        "id": "tB-5mQIBB9x2"
      }
    },
    {
      "cell_type": "code",
      "source": [
        "import pandas as pd\n",
        "import numpy as np\n",
        "import sklearn\n",
        "from sklearn.utils import shuffle\n",
        "from sklearn.neighbors import KNeighborsClassifier\n",
        "from sklearn import linear_model, preprocessing"
      ],
      "metadata": {
        "id": "9QSIYbO6BNNh"
      },
      "execution_count": null,
      "outputs": []
    },
    {
      "cell_type": "markdown",
      "source": [
        "# Download data"
      ],
      "metadata": {
        "id": "WhHUNXa0BNdM"
      }
    },
    {
      "cell_type": "code",
      "execution_count": null,
      "metadata": {
        "colab": {
          "base_uri": "https://localhost:8080/"
        },
        "id": "JlP-7rzoAc0l",
        "outputId": "8f894ad7-24a7-4dfe-e722-f2f219ed29f5"
      },
      "outputs": [
        {
          "output_type": "stream",
          "name": "stdout",
          "text": [
            "Drive already mounted at /content/drive/; to attempt to forcibly remount, call drive.mount(\"/content/drive/\", force_remount=True).\n"
          ]
        }
      ],
      "source": [
        "from google.colab import drive\n",
        "drive.mount('/content/drive/')\n",
        "#/content/drive/MyDrive/ML Tutorials/Data Set/student/student-mat.csv"
      ]
    },
    {
      "cell_type": "code",
      "source": [
        "# read our data\n",
        "data = pd.read_csv(\"/content/drive/MyDrive/ML Tutorials/Data Set/Car Data set/car.data\")"
      ],
      "metadata": {
        "id": "qwqqBiJRAmL9"
      },
      "execution_count": null,
      "outputs": []
    },
    {
      "cell_type": "markdown",
      "source": [
        "# Preprocessing"
      ],
      "metadata": {
        "id": "9kevw-IHJVhF"
      }
    },
    {
      "cell_type": "code",
      "source": [
        "# add column names\n",
        "data.columns =['buying', 'maint', 'door', 'persons','lug_boot','safety','class']"
      ],
      "metadata": {
        "id": "oE9NuOgQCZyp"
      },
      "execution_count": null,
      "outputs": []
    },
    {
      "cell_type": "code",
      "source": [
        "data.head()"
      ],
      "metadata": {
        "colab": {
          "base_uri": "https://localhost:8080/",
          "height": 204
        },
        "id": "tk34zyitCroQ",
        "outputId": "f96ff37d-3bef-4356-e207-6531cda2ad60"
      },
      "execution_count": null,
      "outputs": [
        {
          "output_type": "execute_result",
          "data": {
            "text/plain": [
              "  buying  maint door persons lug_boot safety  class\n",
              "0  vhigh  vhigh    2       2    small    low  unacc\n",
              "1  vhigh  vhigh    2       2    small    med  unacc\n",
              "2  vhigh  vhigh    2       2    small   high  unacc\n",
              "3  vhigh  vhigh    2       2      med    low  unacc\n",
              "4  vhigh  vhigh    2       2      med    med  unacc"
            ],
            "text/html": [
              "\n",
              "  <div id=\"df-db1a5c03-f1ca-4c31-9994-57376c176553\">\n",
              "    <div class=\"colab-df-container\">\n",
              "      <div>\n",
              "<style scoped>\n",
              "    .dataframe tbody tr th:only-of-type {\n",
              "        vertical-align: middle;\n",
              "    }\n",
              "\n",
              "    .dataframe tbody tr th {\n",
              "        vertical-align: top;\n",
              "    }\n",
              "\n",
              "    .dataframe thead th {\n",
              "        text-align: right;\n",
              "    }\n",
              "</style>\n",
              "<table border=\"1\" class=\"dataframe\">\n",
              "  <thead>\n",
              "    <tr style=\"text-align: right;\">\n",
              "      <th></th>\n",
              "      <th>buying</th>\n",
              "      <th>maint</th>\n",
              "      <th>door</th>\n",
              "      <th>persons</th>\n",
              "      <th>lug_boot</th>\n",
              "      <th>safety</th>\n",
              "      <th>class</th>\n",
              "    </tr>\n",
              "  </thead>\n",
              "  <tbody>\n",
              "    <tr>\n",
              "      <th>0</th>\n",
              "      <td>vhigh</td>\n",
              "      <td>vhigh</td>\n",
              "      <td>2</td>\n",
              "      <td>2</td>\n",
              "      <td>small</td>\n",
              "      <td>low</td>\n",
              "      <td>unacc</td>\n",
              "    </tr>\n",
              "    <tr>\n",
              "      <th>1</th>\n",
              "      <td>vhigh</td>\n",
              "      <td>vhigh</td>\n",
              "      <td>2</td>\n",
              "      <td>2</td>\n",
              "      <td>small</td>\n",
              "      <td>med</td>\n",
              "      <td>unacc</td>\n",
              "    </tr>\n",
              "    <tr>\n",
              "      <th>2</th>\n",
              "      <td>vhigh</td>\n",
              "      <td>vhigh</td>\n",
              "      <td>2</td>\n",
              "      <td>2</td>\n",
              "      <td>small</td>\n",
              "      <td>high</td>\n",
              "      <td>unacc</td>\n",
              "    </tr>\n",
              "    <tr>\n",
              "      <th>3</th>\n",
              "      <td>vhigh</td>\n",
              "      <td>vhigh</td>\n",
              "      <td>2</td>\n",
              "      <td>2</td>\n",
              "      <td>med</td>\n",
              "      <td>low</td>\n",
              "      <td>unacc</td>\n",
              "    </tr>\n",
              "    <tr>\n",
              "      <th>4</th>\n",
              "      <td>vhigh</td>\n",
              "      <td>vhigh</td>\n",
              "      <td>2</td>\n",
              "      <td>2</td>\n",
              "      <td>med</td>\n",
              "      <td>med</td>\n",
              "      <td>unacc</td>\n",
              "    </tr>\n",
              "  </tbody>\n",
              "</table>\n",
              "</div>\n",
              "      <button class=\"colab-df-convert\" onclick=\"convertToInteractive('df-db1a5c03-f1ca-4c31-9994-57376c176553')\"\n",
              "              title=\"Convert this dataframe to an interactive table.\"\n",
              "              style=\"display:none;\">\n",
              "        \n",
              "  <svg xmlns=\"http://www.w3.org/2000/svg\" height=\"24px\"viewBox=\"0 0 24 24\"\n",
              "       width=\"24px\">\n",
              "    <path d=\"M0 0h24v24H0V0z\" fill=\"none\"/>\n",
              "    <path d=\"M18.56 5.44l.94 2.06.94-2.06 2.06-.94-2.06-.94-.94-2.06-.94 2.06-2.06.94zm-11 1L8.5 8.5l.94-2.06 2.06-.94-2.06-.94L8.5 2.5l-.94 2.06-2.06.94zm10 10l.94 2.06.94-2.06 2.06-.94-2.06-.94-.94-2.06-.94 2.06-2.06.94z\"/><path d=\"M17.41 7.96l-1.37-1.37c-.4-.4-.92-.59-1.43-.59-.52 0-1.04.2-1.43.59L10.3 9.45l-7.72 7.72c-.78.78-.78 2.05 0 2.83L4 21.41c.39.39.9.59 1.41.59.51 0 1.02-.2 1.41-.59l7.78-7.78 2.81-2.81c.8-.78.8-2.07 0-2.86zM5.41 20L4 18.59l7.72-7.72 1.47 1.35L5.41 20z\"/>\n",
              "  </svg>\n",
              "      </button>\n",
              "      \n",
              "  <style>\n",
              "    .colab-df-container {\n",
              "      display:flex;\n",
              "      flex-wrap:wrap;\n",
              "      gap: 12px;\n",
              "    }\n",
              "\n",
              "    .colab-df-convert {\n",
              "      background-color: #E8F0FE;\n",
              "      border: none;\n",
              "      border-radius: 50%;\n",
              "      cursor: pointer;\n",
              "      display: none;\n",
              "      fill: #1967D2;\n",
              "      height: 32px;\n",
              "      padding: 0 0 0 0;\n",
              "      width: 32px;\n",
              "    }\n",
              "\n",
              "    .colab-df-convert:hover {\n",
              "      background-color: #E2EBFA;\n",
              "      box-shadow: 0px 1px 2px rgba(60, 64, 67, 0.3), 0px 1px 3px 1px rgba(60, 64, 67, 0.15);\n",
              "      fill: #174EA6;\n",
              "    }\n",
              "\n",
              "    [theme=dark] .colab-df-convert {\n",
              "      background-color: #3B4455;\n",
              "      fill: #D2E3FC;\n",
              "    }\n",
              "\n",
              "    [theme=dark] .colab-df-convert:hover {\n",
              "      background-color: #434B5C;\n",
              "      box-shadow: 0px 1px 3px 1px rgba(0, 0, 0, 0.15);\n",
              "      filter: drop-shadow(0px 1px 2px rgba(0, 0, 0, 0.3));\n",
              "      fill: #FFFFFF;\n",
              "    }\n",
              "  </style>\n",
              "\n",
              "      <script>\n",
              "        const buttonEl =\n",
              "          document.querySelector('#df-db1a5c03-f1ca-4c31-9994-57376c176553 button.colab-df-convert');\n",
              "        buttonEl.style.display =\n",
              "          google.colab.kernel.accessAllowed ? 'block' : 'none';\n",
              "\n",
              "        async function convertToInteractive(key) {\n",
              "          const element = document.querySelector('#df-db1a5c03-f1ca-4c31-9994-57376c176553');\n",
              "          const dataTable =\n",
              "            await google.colab.kernel.invokeFunction('convertToInteractive',\n",
              "                                                     [key], {});\n",
              "          if (!dataTable) return;\n",
              "\n",
              "          const docLinkHtml = 'Like what you see? Visit the ' +\n",
              "            '<a target=\"_blank\" href=https://colab.research.google.com/notebooks/data_table.ipynb>data table notebook</a>'\n",
              "            + ' to learn more about interactive tables.';\n",
              "          element.innerHTML = '';\n",
              "          dataTable['output_type'] = 'display_data';\n",
              "          await google.colab.output.renderOutput(dataTable, element);\n",
              "          const docLink = document.createElement('div');\n",
              "          docLink.innerHTML = docLinkHtml;\n",
              "          element.appendChild(docLink);\n",
              "        }\n",
              "      </script>\n",
              "    </div>\n",
              "  </div>\n",
              "  "
            ]
          },
          "metadata": {},
          "execution_count": 5
        }
      ]
    },
    {
      "cell_type": "code",
      "source": [
        "# create object that will convert non numerical values into\n",
        "# something quantifiable\n",
        "le = preprocessing.LabelEncoder()"
      ],
      "metadata": {
        "id": "9NLtfVPEEJba"
      },
      "execution_count": null,
      "outputs": []
    },
    {
      "cell_type": "code",
      "source": [
        "# turn the non numerical values to numerical\n",
        "buying = le.fit_transform(list(data[\"buying\"]))\n",
        "maint = le.fit_transform(list(data[\"maint\"]))\n",
        "door = le.fit_transform(list(data[\"door\"]))\n",
        "persons = le.fit_transform(list(data[\"persons\"]))\n",
        "lug_boot = le.fit_transform(list(data[\"lug_boot\"]))\n",
        "safety = le.fit_transform(list(data[\"safety\"]))\n",
        "cls = le.fit_transform(list(data[\"class\"]))"
      ],
      "metadata": {
        "id": "pBMDIH_6FJxL"
      },
      "execution_count": null,
      "outputs": []
    },
    {
      "cell_type": "code",
      "source": [
        "print(buying)"
      ],
      "metadata": {
        "colab": {
          "base_uri": "https://localhost:8080/"
        },
        "id": "NHW5cAbAHUS0",
        "outputId": "3962c208-64e4-4b05-af3c-fec887ab4099"
      },
      "execution_count": null,
      "outputs": [
        {
          "output_type": "stream",
          "name": "stdout",
          "text": [
            "[3 3 3 ... 1 1 1]\n"
          ]
        }
      ]
    },
    {
      "cell_type": "code",
      "source": [
        "predict = \"class\""
      ],
      "metadata": {
        "id": "KA2tsPc9HHE8"
      },
      "execution_count": null,
      "outputs": []
    },
    {
      "cell_type": "markdown",
      "source": [
        "# Separate data"
      ],
      "metadata": {
        "id": "PKPBV-MAJZb5"
      }
    },
    {
      "cell_type": "code",
      "source": [
        "X = list(zip(buying, maint, door, persons, lug_boot, safety))\n",
        "y = list(cls)"
      ],
      "metadata": {
        "id": "1hos7eI9Hn4b"
      },
      "execution_count": null,
      "outputs": []
    },
    {
      "cell_type": "code",
      "source": [
        "x_train, x_test, y_train, y_test = sklearn.model_selection.train_test_split(X,y,test_size=0.1)"
      ],
      "metadata": {
        "id": "T0KOk98GIRIh"
      },
      "execution_count": null,
      "outputs": []
    },
    {
      "cell_type": "code",
      "source": [
        "model = KNeighborsClassifier(n_neighbors=9)"
      ],
      "metadata": {
        "id": "VBRjAtUeQ-TS"
      },
      "execution_count": null,
      "outputs": []
    },
    {
      "cell_type": "code",
      "source": [
        "model.fit(x_train,y_train)"
      ],
      "metadata": {
        "colab": {
          "base_uri": "https://localhost:8080/"
        },
        "id": "wCgrlGfDRSK8",
        "outputId": "4a86e584-00cc-4a91-960d-30939d231e05"
      },
      "execution_count": null,
      "outputs": [
        {
          "output_type": "execute_result",
          "data": {
            "text/plain": [
              "KNeighborsClassifier(n_neighbors=9)"
            ]
          },
          "metadata": {},
          "execution_count": 19
        }
      ]
    },
    {
      "cell_type": "code",
      "source": [
        "acc = model.score(x_test,y_test)"
      ],
      "metadata": {
        "id": "RchwBiWBRWvo"
      },
      "execution_count": null,
      "outputs": []
    },
    {
      "cell_type": "code",
      "source": [
        "acc"
      ],
      "metadata": {
        "colab": {
          "base_uri": "https://localhost:8080/"
        },
        "id": "bd5Hy2O1RbHH",
        "outputId": "6a1daa56-7115-4c48-8278-c5483d19f67b"
      },
      "execution_count": null,
      "outputs": [
        {
          "output_type": "execute_result",
          "data": {
            "text/plain": [
              "0.9479768786127167"
            ]
          },
          "metadata": {},
          "execution_count": 21
        }
      ]
    },
    {
      "cell_type": "code",
      "source": [
        "# visualize the mistake in our predictions\n",
        "predicted = model.predict(x_test)\n",
        "names = [\"unacc\", \"acc\", \"good\", \"vgood\"]\n",
        "for x in range(len(x_test)):\n",
        "  print(\"Predicted:\",names[predicted[x]], \"Data: \", x_test[x], \"Actual: \", names[y_test[x]])\n",
        "  n = model.kneighbors([x_test[x]], 9, True)\n",
        "  print(\"N: \",n)"
      ],
      "metadata": {
        "colab": {
          "base_uri": "https://localhost:8080/"
        },
        "id": "DSzivtEXRmDT",
        "outputId": "4febbfda-75d8-4e00-ca53-da4570a388c6"
      },
      "execution_count": null,
      "outputs": [
        {
          "output_type": "stream",
          "name": "stdout",
          "text": [
            "Predicted: good Data:  (1, 2, 1, 1, 2, 1) Actual:  good\n",
            "N:  (array([[1., 1., 1., 1., 1., 1., 1., 1., 1.]]), array([[   5,  119, 1314, 1078,  519,  175,  685,  449,  640]]))\n",
            "Predicted: good Data:  (2, 2, 0, 1, 1, 1) Actual:  good\n",
            "N:  (array([[1., 1., 1., 1., 1., 1., 1., 1., 1.]]), array([[ 367,  592, 1255,  187, 1026, 1082,  289,  231,   85]]))\n",
            "Predicted: good Data:  (2, 2, 0, 0, 1, 2) Actual:  good\n",
            "N:  (array([[1.        , 1.        , 1.        , 1.        , 1.        ,\n",
            "        1.        , 1.        , 1.        , 1.41421356]]), array([[1360,  890, 1309,  362,  361, 1082,  367,  284,  342]]))\n",
            "Predicted: good Data:  (2, 0, 3, 0, 0, 1) Actual:  good\n",
            "N:  (array([[1.        , 1.        , 1.        , 1.        , 1.        ,\n",
            "        1.        , 1.41421356, 1.41421356, 1.41421356]]), array([[ 790, 1471, 1189, 1407,  422,   37,  135,   27,   56]]))\n",
            "Predicted: good Data:  (1, 0, 3, 0, 0, 2) Actual:  good\n",
            "N:  (array([[1.        , 1.        , 1.        , 1.        , 1.        ,\n",
            "        1.        , 1.        , 1.41421356, 1.41421356]]), array([[ 790,  227,  732, 1471, 1315, 1017, 1347, 1310,   27]]))\n",
            "Predicted: good Data:  (1, 2, 0, 2, 1, 1) Actual:  good\n",
            "N:  (array([[1., 1., 1., 1., 1., 1., 1., 1., 1.]]), array([[1060,  187,  641,  314,  489, 1253, 1000,  466, 1120]]))\n",
            "Predicted: good Data:  (3, 0, 2, 0, 0, 0) Actual:  good\n",
            "N:  (array([[1.        , 1.        , 1.        , 1.        , 1.        ,\n",
            "        1.        , 1.41421356, 1.41421356, 1.41421356]]), array([[101, 702, 350, 633, 676, 765, 371, 660, 480]]))\n",
            "Predicted: good Data:  (0, 0, 2, 2, 2, 2) Actual:  good\n",
            "N:  (array([[1.        , 1.        , 1.        , 1.        , 1.        ,\n",
            "        1.        , 1.41421356, 1.41421356, 1.41421356]]), array([[ 133, 1553,  705,  784,  546,  251, 1504,  710,  944]]))\n",
            "Predicted: good Data:  (1, 2, 1, 0, 1, 0) Actual:  good\n",
            "N:  (array([[1., 1., 1., 1., 1., 1., 1., 1., 1.]]), array([[1229,  650,  286,  918,  150,  256, 1485,  933,   19]]))\n",
            "Predicted: unacc Data:  (1, 0, 3, 2, 1, 0) Actual:  vgood\n",
            "N:  (array([[1.        , 1.        , 1.        , 1.        , 1.        ,\n",
            "        1.        , 1.41421356, 1.41421356, 1.41421356]]), array([[ 573, 1475,  439,  656,  958,   52, 1029,  414, 1338]]))\n",
            "Predicted: good Data:  (1, 1, 1, 0, 2, 1) Actual:  good\n",
            "N:  (array([[1.        , 1.        , 1.        , 1.        , 1.        ,\n",
            "        1.        , 1.        , 1.        , 1.41421356]]), array([[ 622, 1333,  685, 1493,  549,  922, 1300,  127,  190]]))\n",
            "Predicted: good Data:  (0, 0, 3, 0, 0, 1) Actual:  good\n",
            "N:  (array([[1.        , 1.        , 1.        , 1.        , 1.        ,\n",
            "        1.        , 1.        , 1.41421356, 1.41421356]]), array([[  16,  997, 1471,  943, 1058, 1315, 1142, 1409,  493]]))\n",
            "Predicted: good Data:  (3, 2, 3, 0, 0, 0) Actual:  good\n",
            "N:  (array([[1.        , 1.        , 1.        , 1.        , 1.        ,\n",
            "        1.        , 1.41421356, 1.41421356, 1.41421356]]), array([[ 609, 1285,  786,  763, 1146, 1133, 1297,  506,  242]]))\n",
            "Predicted: good Data:  (2, 2, 2, 0, 0, 2) Actual:  good\n",
            "N:  (array([[1., 1., 1., 1., 1., 1., 1., 1., 1.]]), array([[ 818,  342,  495, 1444,  427, 1037,  198,  329,  321]]))\n",
            "Predicted: good Data:  (0, 2, 1, 0, 1, 1) Actual:  good\n",
            "N:  (array([[1., 1., 1., 1., 1., 1., 1., 1., 1.]]), array([[ 116,  208, 1254, 1425,  286,  810,  473, 1317,  401]]))\n",
            "Predicted: good Data:  (2, 2, 2, 2, 2, 1) Actual:  good\n",
            "N:  (array([[1., 1., 1., 1., 1., 1., 1., 1., 1.]]), array([[ 155, 1225, 1524,  291,  911, 1351, 1199,  275,   25]]))\n",
            "Predicted: good Data:  (3, 0, 1, 1, 2, 1) Actual:  good\n",
            "N:  (array([[1., 1., 1., 1., 1., 1., 1., 1., 1.]]), array([[  53, 1551,  709,  406,  363,  743, 1118, 1211,   34]]))\n",
            "Predicted: good Data:  (3, 0, 2, 0, 1, 1) Actual:  good\n",
            "N:  (array([[1.        , 1.        , 1.        , 1.        , 1.        ,\n",
            "        1.        , 1.        , 1.        , 1.41421356]]), array([[ 862,  765, 1430,  341,  676, 1069,  161,  952,  371]]))\n",
            "Predicted: good Data:  (1, 0, 3, 0, 2, 1) Actual:  good\n",
            "N:  (array([[1.        , 1.        , 1.        , 1.        , 1.        ,\n",
            "        1.        , 1.        , 1.        , 1.41421356]]), array([[ 312, 1469, 1362,   50,  887,  265,   28,  945,  872]]))\n",
            "Predicted: unacc Data:  (1, 3, 1, 1, 2, 0) Actual:  unacc\n",
            "N:  (array([[1., 1., 1., 1., 1., 1., 1., 1., 1.]]), array([[ 519,  830, 1314, 1548,  366, 1348, 1382,   61,  564]]))\n",
            "Predicted: good Data:  (3, 0, 1, 1, 0, 1) Actual:  good\n",
            "N:  (array([[1.        , 1.        , 1.        , 1.        , 1.        ,\n",
            "        1.        , 1.        , 1.        , 1.41421356]]), array([[ 743,  423, 1400,  480,  908,  639,  213,  477, 1477]]))\n",
            "Predicted: good Data:  (1, 1, 1, 2, 2, 1) Actual:  good\n",
            "N:  (array([[1., 1., 1., 1., 1., 1., 1., 1., 1.]]), array([[ 707,  620, 1374, 1206, 1392,  191,  175,  585,  548]]))\n",
            "Predicted: good Data:  (1, 3, 3, 2, 0, 1) Actual:  good\n",
            "N:  (array([[1.        , 1.        , 1.        , 1.        , 1.        ,\n",
            "        1.        , 1.        , 1.        , 1.41421356]]), array([[1461, 1529, 1538,  183, 1003, 1490, 1121, 1130,  583]]))\n",
            "Predicted: good Data:  (1, 0, 2, 2, 2, 1) Actual:  good\n",
            "N:  (array([[1.        , 1.        , 1.        , 1.        , 1.        ,\n",
            "        1.        , 1.        , 1.41421356, 1.41421356]]), array([[ 934,  620,   82,   48, 1374,  133, 1276, 1451,  632]]))\n",
            "Predicted: good Data:  (1, 0, 3, 2, 2, 1) Actual:  good\n",
            "N:  (array([[1.        , 1.        , 1.        , 1.        , 1.        ,\n",
            "        1.        , 1.41421356, 1.41421356, 1.41421356]]), array([[1504,  573,  439,  854,  887, 1122, 1335,  705,  753]]))\n",
            "Predicted: good Data:  (2, 0, 0, 0, 1, 0) Actual:  good\n",
            "N:  (array([[1.        , 1.        , 1.        , 1.        , 1.        ,\n",
            "        1.        , 1.        , 1.        , 1.41421356]]), array([[ 328,  722,  144, 1492,  835,  277,  877,  629,   59]]))\n",
            "Predicted: unacc Data:  (1, 3, 3, 2, 1, 0) Actual:  unacc\n",
            "N:  (array([[1.        , 1.        , 1.        , 1.        , 1.        ,\n",
            "        1.        , 1.        , 1.41421356, 1.41421356]]), array([[ 392,  875, 1130,  220,  463,  298, 1490,  583, 1350]]))\n",
            "Predicted: good Data:  (1, 2, 1, 2, 1, 1) Actual:  good\n",
            "N:  (array([[1., 1., 1., 1., 1., 1., 1., 1., 1.]]), array([[1392, 1186,  175,  640,  643,  838,  820,   55, 1355]]))\n",
            "Predicted: good Data:  (2, 0, 2, 0, 1, 0) Actual:  good\n",
            "N:  (array([[1.        , 1.        , 1.        , 1.        , 1.        ,\n",
            "        1.        , 1.        , 1.        , 1.41421356]]), array([[ 350,  274,  765,  277,  292,  161, 1043, 1222,  621]]))\n",
            "Predicted: unacc Data:  (2, 3, 2, 1, 2, 0) Actual:  unacc\n",
            "N:  (array([[1., 1., 1., 1., 1., 1., 1., 1., 1.]]), array([[ 830,  564, 1384,  381,  808, 1221,  836,  138, 1462]]))\n",
            "Predicted: unacc Data:  (2, 2, 3, 1, 2, 2) Actual:  unacc\n",
            "N:  (array([[1., 1., 1., 1., 1., 1., 1., 1., 1.]]), array([[  75,  881, 1332, 1536, 1031,  739,  244, 1417,  428]]))\n",
            "Predicted: good Data:  (3, 1, 2, 2, 1, 1) Actual:  good\n",
            "N:  (array([[1., 1., 1., 1., 1., 1., 1., 1., 1.]]), array([[ 396,  625,  267, 1480, 1456,  930,  731,  130, 1185]]))\n",
            "Predicted: good Data:  (3, 2, 3, 0, 1, 0) Actual:  good\n",
            "N:  (array([[1.        , 1.        , 1.        , 1.        , 1.        ,\n",
            "        1.        , 1.        , 1.41421356, 1.41421356]]), array([[1448,  370,  278,  762,  905,  855, 1297, 1236, 1081]]))\n",
            "Predicted: good Data:  (2, 0, 1, 1, 0, 1) Actual:  good\n",
            "N:  (array([[1.        , 1.        , 1.        , 1.        , 1.        ,\n",
            "        1.        , 1.        , 1.        , 1.41421356]]), array([[ 364, 1434,  689,  604,  588, 1054,  797, 1428,  845]]))\n",
            "Predicted: good Data:  (3, 0, 0, 0, 1, 2) Actual:  good\n",
            "N:  (array([[1.        , 1.        , 1.        , 1.        , 1.        ,\n",
            "        1.        , 1.        , 1.41421356, 1.41421356]]), array([[1371, 1219,  471, 1175,  893, 1064,  530,   93, 1341]]))\n",
            "Predicted: vgood Data:  (1, 0, 2, 2, 1, 0) Actual:  vgood\n",
            "N:  (array([[1.        , 1.        , 1.        , 1.        , 1.        ,\n",
            "        1.        , 1.        , 1.        , 1.41421356]]), array([[ 901, 1276,  934, 1104, 1495,  793, 1313, 1029,  958]]))\n",
            "Predicted: good Data:  (0, 0, 2, 2, 2, 1) Actual:  good\n",
            "N:  (array([[1.        , 1.        , 1.        , 1.        , 1.        ,\n",
            "        1.        , 1.41421356, 1.41421356, 1.41421356]]), array([[ 710, 1504,  177,   42,  944,  233, 1388, 1200, 1176]]))\n",
            "Predicted: good Data:  (2, 2, 1, 0, 1, 2) Actual:  good\n",
            "N:  (array([[1., 1., 1., 1., 1., 1., 1., 1., 1.]]), array([[ 646, 1502, 1429,  818, 1331,  342, 1202,  576,   11]]))\n",
            "Predicted: vgood Data:  (2, 2, 1, 2, 0, 0) Actual:  vgood\n",
            "N:  (array([[1., 1., 1., 1., 1., 1., 1., 1., 1.]]), array([[1047,  486, 1275,  344,  552,  230,  382,  907,  112]]))\n",
            "Predicted: good Data:  (0, 2, 2, 0, 1, 0) Actual:  good\n",
            "N:  (array([[1.        , 1.        , 1.        , 1.        , 1.        ,\n",
            "        1.        , 1.        , 1.41421356, 1.41421356]]), array([[650, 208, 286, 647, 339, 986, 315, 247,  77]]))\n",
            "Predicted: good Data:  (2, 0, 2, 2, 0, 1) Actual:  good\n",
            "N:  (array([[1., 1., 1., 1., 1., 1., 1., 1., 1.]]), array([[ 909,  364,  399,  778, 1395,  968,  604,   54,  904]]))\n",
            "Predicted: good Data:  (2, 2, 0, 0, 0, 1) Actual:  good\n",
            "N:  (array([[1., 1., 1., 1., 1., 1., 1., 1., 1.]]), array([[1239, 1438, 1274,  873, 1026,  367,   57,  871,  361]]))\n",
            "Predicted: unacc Data:  (1, 0, 1, 2, 1, 2) Actual:  unacc\n",
            "N:  (array([[1.        , 1.        , 1.        , 1.        , 1.        ,\n",
            "        1.        , 1.        , 1.        , 1.41421356]]), array([[ 105,  870, 1468,  856, 1065, 1380, 1001,  462,  280]]))\n",
            "Predicted: unacc Data:  (2, 2, 2, 2, 1, 2) Actual:  unacc\n",
            "N:  (array([[1.        , 1.        , 1.        , 1.        , 1.        ,\n",
            "        1.        , 1.        , 1.41421356, 1.41421356]]), array([[1524,  484,  258, 1437,  960,  384,  911, 1155,  842]]))\n",
            "Predicted: good Data:  (0, 0, 0, 2, 1, 1) Actual:  good\n",
            "N:  (array([[1.        , 1.        , 1.        , 1.        , 1.        ,\n",
            "        1.        , 1.        , 1.        , 1.41421356]]), array([[ 866,   45,  124,  891, 1028,  696,  884,  280,  354]]))\n",
            "Predicted: unacc Data:  (3, 2, 3, 2, 2, 0) Actual:  unacc\n",
            "N:  (array([[1.        , 1.        , 1.        , 1.        , 1.        ,\n",
            "        1.        , 1.        , 1.41421356, 1.41421356]]), array([[ 516,  225, 1339, 1337,   98, 1198, 1213, 1141,  109]]))\n",
            "Predicted: good Data:  (3, 0, 2, 1, 2, 2) Actual:  good\n",
            "N:  (array([[1.        , 1.        , 1.        , 1.        , 1.        ,\n",
            "        1.        , 1.        , 1.41421356, 1.41421356]]), array([[1551, 1100,  684, 1228,  443,  406, 1466,  603, 1069]]))\n",
            "Predicted: good Data:  (1, 1, 3, 2, 2, 1) Actual:  good\n",
            "N:  (array([[1.        , 1.        , 1.        , 1.        , 1.        ,\n",
            "        1.        , 1.        , 1.41421356, 1.41421356]]), array([[  60,  864,  219,  620,  659,  744,  156,  632, 1286]]))\n",
            "Predicted: good Data:  (0, 2, 0, 0, 2, 0) Actual:  good\n",
            "N:  (array([[1.        , 1.        , 1.        , 1.        , 1.        ,\n",
            "        1.        , 1.41421356, 1.41421356, 1.41421356]]), array([[ 385,  953,  541,  638,  591, 1544, 1426,  336,  433]]))\n",
            "Predicted: unacc Data:  (1, 0, 0, 2, 2, 0) Actual:  good\n",
            "N:  (array([[1.        , 1.        , 1.        , 1.        , 1.        ,\n",
            "        1.        , 1.        , 1.41421356, 1.41421356]]), array([[ 785,  488,  964, 1458, 1163,  354,  226, 1104,  949]]))\n",
            "Predicted: good Data:  (1, 1, 1, 1, 2, 1) Actual:  good\n",
            "N:  (array([[1.        , 1.        , 1.        , 1.        , 1.        ,\n",
            "        1.        , 1.        , 1.41421356, 1.41421356]]), array([[1256,  173,  632, 1070,  190,  460, 1302,  191,  127]]))\n",
            "Predicted: good Data:  (0, 2, 2, 1, 2, 2) Actual:  good\n",
            "N:  (array([[1., 1., 1., 1., 1., 1., 1., 1., 1.]]), array([[ 162,  435,  730,   12, 1463,  742, 1016, 1040, 1143]]))\n",
            "Predicted: good Data:  (0, 3, 2, 2, 2, 1) Actual:  good\n",
            "N:  (array([[1.        , 1.        , 1.        , 1.        , 1.        ,\n",
            "        1.        , 1.        , 1.        , 1.41421356]]), array([[1397,   74,   62,  181,  826, 1318,  822, 1101,  742]]))\n",
            "Predicted: good Data:  (1, 3, 2, 0, 1, 1) Actual:  good\n",
            "N:  (array([[1., 1., 1., 1., 1., 1., 1., 1., 1.]]), array([[1312,   76,  496,  207,  787, 1051,  248, 1024, 1365]]))\n",
            "Predicted: good Data:  (2, 1, 2, 1, 1, 1) Actual:  good\n",
            "N:  (array([[1., 1., 1., 1., 1., 1., 1., 1., 1.]]), array([[ 115,  396,  569, 1185,  184,  559, 1154, 1182,  804]]))\n",
            "Predicted: good Data:  (2, 0, 1, 1, 1, 1) Actual:  good\n",
            "N:  (array([[1., 1., 1., 1., 1., 1., 1., 1., 1.]]), array([[1045, 1154,  713,  236, 1118, 1076,  304,  987,  743]]))\n",
            "Predicted: good Data:  (0, 3, 0, 0, 2, 1) Actual:  good\n",
            "N:  (array([[1.        , 1.        , 1.        , 1.        , 1.        ,\n",
            "        1.        , 1.        , 1.41421356, 1.41421356]]), array([[1004, 1250,  912,  567,  377, 1544,  591,  810,  635]]))\n",
            "Predicted: unacc Data:  (0, 1, 0, 1, 2, 0) Actual:  unacc\n",
            "N:  (array([[1.        , 1.        , 1.        , 1.        , 1.        ,\n",
            "        1.        , 1.        , 1.41421356, 1.41421356]]), array([[1193,  562,  638,  276, 1523,  353,  775,  510,  511]]))\n",
            "Predicted: acc Data:  (1, 1, 0, 1, 1, 0) Actual:  acc\n",
            "N:  (array([[1., 1., 1., 1., 1., 1., 1., 1., 1.]]), array([[ 910, 1537,  949, 1523, 1204, 1301,  766,  577,  353]]))\n",
            "Predicted: good Data:  (0, 1, 2, 0, 2, 1) Actual:  good\n",
            "N:  (array([[1.        , 1.        , 1.        , 1.        , 1.        ,\n",
            "        1.        , 1.        , 1.41421356, 1.41421356]]), array([[1176, 1071, 1333, 1493,  976,  338,  718,  647, 1402]]))\n",
            "Predicted: unacc Data:  (1, 1, 0, 1, 1, 2) Actual:  unacc\n",
            "N:  (array([[1., 1., 1., 1., 1., 1., 1., 1., 1.]]), array([[ 661,  578, 1301, 1284,  708,   46,  774,  624,  360]]))\n",
            "Predicted: good Data:  (3, 2, 0, 0, 0, 2) Actual:  good\n",
            "N:  (array([[1.        , 1.        , 1.        , 1.        , 1.        ,\n",
            "        1.        , 1.41421356, 1.41421356, 1.41421356]]), array([[ 163, 1360,  417,  361,  977, 1274,  857, 1440,  919]]))\n",
            "Predicted: good Data:  (3, 2, 1, 2, 1, 2) Actual:  unacc\n",
            "N:  (array([[1., 1., 1., 1., 1., 1., 1., 1., 1.]]), array([[1057, 1550,  960,  484, 1108,  499, 1089,  894, 1174]]))\n",
            "Predicted: good Data:  (3, 0, 2, 2, 1, 0) Actual:  good\n",
            "N:  (array([[1.        , 1.        , 1.        , 1.        , 1.        ,\n",
            "        1.        , 1.41421356, 1.41421356, 1.41421356]]), array([[1495, 1149,  817,  678,  731,  930,  909, 1063,  952]]))\n",
            "Predicted: good Data:  (2, 1, 0, 2, 0, 1) Actual:  good\n",
            "N:  (array([[1., 1., 1., 1., 1., 1., 1., 1., 1.]]), array([[ 691,  888,  581,  502, 1441,    0, 1288,  132,  560]]))\n",
            "Predicted: good Data:  (3, 1, 3, 0, 2, 2) Actual:  good\n",
            "N:  (array([[1.        , 1.        , 1.        , 1.        , 1.        ,\n",
            "        1.41421356, 1.41421356, 1.41421356, 1.41421356]]), array([[ 603,   35, 1086, 1525, 1066, 1268,  733, 1177,  881]]))\n",
            "Predicted: good Data:  (2, 1, 2, 0, 0, 0) Actual:  good\n",
            "N:  (array([[1., 1., 1., 1., 1., 1., 1., 1., 1.]]), array([[ 274,  756,  984, 1540,  350,  702,  308,  770,   41]]))\n",
            "Predicted: unacc Data:  (0, 1, 2, 1, 1, 2) Actual:  unacc\n",
            "N:  (array([[1., 1., 1., 1., 1., 1., 1., 1., 1.]]), array([[  12, 1016, 1150,  539,  263, 1129,  128,  189, 1227]]))\n",
            "Predicted: good Data:  (1, 1, 1, 0, 2, 2) Actual:  good\n",
            "N:  (array([[1.        , 1.        , 1.        , 1.        , 1.        ,\n",
            "        1.        , 1.        , 1.        , 1.41421356]]), array([[ 460, 1132,  915,  239, 1391,  611,  610, 1073,  706]]))\n",
            "Predicted: good Data:  (3, 1, 3, 2, 0, 1) Actual:  good\n",
            "N:  (array([[1.        , 1.        , 1.        , 1.        , 1.        ,\n",
            "        1.        , 1.41421356, 1.41421356, 1.41421356]]), array([[1456, 1509,  202, 1480,  340, 1140,  778,   56,  188]]))\n",
            "Predicted: good Data:  (0, 0, 0, 2, 0, 2) Actual:  unacc\n",
            "N:  (array([[1.        , 1.        , 1.        , 1.        , 1.        ,\n",
            "        1.        , 1.41421356, 1.41421356, 1.41421356]]), array([[ 196, 1067, 1028, 1375,  866,  307,  192,  827,  792]]))\n",
            "Predicted: acc Data:  (1, 2, 2, 2, 1, 2) Actual:  acc\n",
            "N:  (array([[1.        , 1.        , 1.        , 1.        , 1.        ,\n",
            "        1.        , 1.        , 1.        , 1.41421356]]), array([[ 941, 1137, 1476,  643, 1155,  865,  118, 1401, 1479]]))\n",
            "Predicted: good Data:  (1, 2, 1, 0, 1, 1) Actual:  good\n",
            "N:  (array([[1., 1., 1., 1., 1., 1., 1., 1., 1.]]), array([[ 612,  207,  685,  576,  294,  640, 1202,  127,  955]]))\n",
            "Predicted: unacc Data:  (0, 0, 3, 2, 1, 0) Actual:  unacc\n",
            "N:  (array([[1.        , 1.        , 1.        , 1.        , 1.        ,\n",
            "        1.        , 1.41421356, 1.41421356, 1.41421356]]), array([[ 717, 1338,    7,  414,  490, 1313, 1012, 1053,  233]]))\n",
            "Predicted: good Data:  (1, 3, 2, 0, 0, 0) Actual:  good\n",
            "N:  (array([[1.        , 1.        , 1.        , 1.        , 1.        ,\n",
            "        1.        , 1.        , 1.        , 1.41421356]]), array([[ 902,  388,  176, 1324, 1024,  580,  787,   77,  986]]))\n",
            "Predicted: unacc Data:  (2, 1, 3, 2, 2, 0) Actual:  acc\n",
            "N:  (array([[1.        , 1.        , 1.        , 1.        , 1.        ,\n",
            "        1.        , 1.        , 1.41421356, 1.41421356]]), array([[1368,   60,  698, 1337, 1339,  453,  659,   52,  188]]))\n",
            "Predicted: unacc Data:  (0, 0, 1, 1, 0, 2) Actual:  unacc\n",
            "N:  (array([[1.        , 1.        , 1.        , 1.        , 1.        ,\n",
            "        1.        , 1.        , 1.        , 1.41421356]]), array([[ 307,  224, 1474,  608,   86, 1067, 1354,  518, 1260]]))\n",
            "Predicted: good Data:  (3, 1, 0, 1, 2, 1) Actual:  good\n",
            "N:  (array([[1.        , 1.        , 1.        , 1.        , 1.        ,\n",
            "        1.        , 1.        , 1.41421356, 1.41421356]]), array([[1370,  363,  494,   92, 1510,   34,  777,  114,   93]]))\n",
            "Predicted: good Data:  (0, 1, 3, 0, 2, 2) Actual:  good\n",
            "N:  (array([[1.        , 1.        , 1.        , 1.        , 1.        ,\n",
            "        1.        , 1.41421356, 1.41421356, 1.41421356]]), array([[ 718, 1482,  651, 1166,  801,  587,  145, 1227,  312]]))\n",
            "Predicted: unacc Data:  (2, 3, 3, 1, 1, 2) Actual:  unacc\n",
            "N:  (array([[1., 1., 1., 1., 1., 1., 1., 1., 1.]]), array([[1021,  428, 1536,  168, 1111,  832,  146, 1056, 1144]]))\n",
            "Predicted: unacc Data:  (3, 1, 3, 2, 0, 0) Actual:  unacc\n",
            "N:  (array([[1.        , 1.        , 1.        , 1.        , 1.        ,\n",
            "        1.41421356, 1.41421356, 1.41421356, 1.41421356]]), array([[1063,  188, 1486,  424,  448, 1368, 1036,  202,  340]]))\n",
            "Predicted: good Data:  (2, 3, 3, 0, 0, 0) Actual:  good\n",
            "N:  (array([[1.        , 1.        , 1.        , 1.        , 1.        ,\n",
            "        1.        , 1.        , 1.41421356, 1.41421356]]), array([[ 240,  293,  176,  763, 1146,  580, 1009,  273, 1411]]))\n",
            "Predicted: good Data:  (0, 2, 3, 2, 2, 1) Actual:  good\n",
            "N:  (array([[1.        , 1.        , 1.        , 1.        , 1.        ,\n",
            "        1.        , 1.        , 1.41421356, 1.41421356]]), array([[1101, 1117,  744,  219,  444,   62,  595, 1248, 1216]]))\n",
            "Predicted: good Data:  (0, 3, 2, 1, 1, 2) Actual:  good\n",
            "N:  (array([[1., 1., 1., 1., 1., 1., 1., 1., 1.]]), array([[1016,   49, 1479,  107,  288,  162,  457, 1244,  848]]))\n",
            "Predicted: good Data:  (0, 1, 3, 2, 1, 1) Actual:  good\n",
            "N:  (array([[1.        , 1.        , 1.        , 1.        , 1.        ,\n",
            "        1.        , 1.        , 1.        , 1.41421356]]), array([[ 170,  744, 1530, 1117,  167, 1338,  886,  717, 1209]]))\n",
            "Predicted: unacc Data:  (2, 3, 3, 2, 1, 0) Actual:  unacc\n",
            "N:  (array([[1.        , 1.        , 1.        , 1.        , 1.        ,\n",
            "        1.        , 1.        , 1.41421356, 1.41421356]]), array([[ 261,  413,  545, 1549, 1141,  758,  637,  298,  463]]))\n",
            "Predicted: good Data:  (1, 0, 0, 2, 0, 1) Actual:  good\n",
            "N:  (array([[1.        , 1.        , 1.        , 1.        , 1.        ,\n",
            "        1.        , 1.        , 1.        , 1.41421356]]), array([[1375,   45,  888, 1441, 1109,  686, 1028, 1159, 1014]]))\n",
            "Predicted: unacc Data:  (1, 3, 3, 1, 2, 0) Actual:  unacc\n",
            "N:  (array([[1.        , 1.        , 1.        , 1.        , 1.        ,\n",
            "        1.        , 1.        , 1.        , 1.41421356]]), array([[1519,  875,  305,  836, 1518,  830,  298, 1379, 1346]]))\n",
            "Predicted: good Data:  (1, 3, 3, 0, 0, 2) Actual:  good\n",
            "N:  (array([[1.        , 1.        , 1.        , 1.        , 1.        ,\n",
            "        1.        , 1.41421356, 1.41421356, 1.41421356]]), array([[ 736,  852,   31, 1090,  301,  916, 1340, 1365,  117]]))\n",
            "Predicted: unacc Data:  (2, 0, 3, 2, 2, 0) Actual:  unacc\n",
            "N:  (array([[1.        , 1.        , 1.        , 1.        , 1.        ,\n",
            "        1.41421356, 1.41421356, 1.41421356, 1.41421356]]), array([[  52,  439,  572, 1122,  376,  659,  619,   60,  934]]))\n",
            "Predicted: unacc Data:  (2, 2, 2, 2, 0, 2) Actual:  unacc\n",
            "N:  (array([[1.        , 1.        , 1.        , 1.        , 1.        ,\n",
            "        1.        , 1.        , 1.41421356, 1.41421356]]), array([[ 679,  391,  769,  255,  329,  823,  204,  384, 1201]]))\n",
            "Predicted: good Data:  (3, 2, 2, 2, 1, 1) Actual:  good\n",
            "N:  (array([[1.        , 1.        , 1.        , 1.        , 1.        ,\n",
            "        1.        , 1.        , 1.        , 1.41421356]]), array([[1351,  911, 1526, 1108,  796, 1293,  484,  704,  823]]))\n",
            "Predicted: good Data:  (2, 0, 0, 1, 1, 2) Actual:  good\n",
            "N:  (array([[1., 1., 1., 1., 1., 1., 1., 1., 1.]]), array([[578, 774, 794, 471, 501, 893, 839, 304, 987]]))\n",
            "Predicted: good Data:  (1, 1, 3, 2, 1, 1) Actual:  good\n",
            "N:  (array([[1.        , 1.        , 1.        , 1.        , 1.        ,\n",
            "        1.        , 1.        , 1.        , 1.41421356]]), array([[ 656,  627,  573,  979,  153,  942, 1197,  849, 1530]]))\n",
            "Predicted: good Data:  (3, 3, 1, 2, 0, 0) Actual:  good\n",
            "N:  (array([[1.        , 1.        , 1.        , 1.        , 1.        ,\n",
            "        1.        , 1.        , 1.41421356, 1.41421356]]), array([[ 306, 1184,  250,  907,  811,  998, 1275,  182, 1436]]))\n",
            "Predicted: good Data:  (0, 0, 2, 0, 0, 2) Actual:  good\n",
            "N:  (array([[1.        , 1.        , 1.        , 1.        , 1.        ,\n",
            "        1.        , 1.        , 1.41421356, 1.41421356]]), array([[1496, 1160,  227,  608, 1354,  997, 1315,  493, 1227]]))\n",
            "Predicted: good Data:  (2, 3, 0, 0, 0, 0) Actual:  good\n",
            "N:  (array([[1.        , 1.        , 1.        , 1.        , 1.        ,\n",
            "        1.        , 1.        , 1.41421356, 1.41421356]]), array([[  30, 1239, 1345,  216,  871,  882, 1241,  869,  426]]))\n",
            "Predicted: good Data:  (1, 1, 3, 0, 0, 1) Actual:  good\n",
            "N:  (array([[1., 1., 1., 1., 1., 1., 1., 1., 1.]]), array([[ 129, 1189,  429, 1257, 1393, 1471,  570, 1058, 1017]]))\n",
            "Predicted: good Data:  (1, 0, 2, 1, 0, 1) Actual:  good\n",
            "N:  (array([[1., 1., 1., 1., 1., 1., 1., 1., 1.]]), array([[1091,  604,  311,   54,  351,  383, 1299,  555, 1329]]))\n",
            "Predicted: unacc Data:  (1, 3, 1, 2, 1, 0) Actual:  unacc\n",
            "N:  (array([[1., 1., 1., 1., 1., 1., 1., 1., 1.]]), array([[ 228,  220, 1348, 1165,  421,  838,  366,  820,  645]]))\n",
            "Predicted: unacc Data:  (3, 2, 3, 2, 1, 2) Actual:  unacc\n",
            "N:  (array([[1.        , 1.        , 1.        , 1.        , 1.        ,\n",
            "        1.        , 1.        , 1.        , 1.41421356]]), array([[ 323,  796, 1437,  692, 1366,  397,   79,  484,   98]]))\n",
            "Predicted: good Data:  (1, 0, 3, 0, 0, 0) Actual:  good\n",
            "N:  (array([[1.        , 1.        , 1.        , 1.        , 1.        ,\n",
            "        1.        , 1.        , 1.41421356, 1.41421356]]), array([[1407, 1142, 1152, 1531, 1393, 1471, 1085,  390,  981]]))\n",
            "Predicted: unacc Data:  (2, 0, 1, 1, 1, 0) Actual:  unacc\n",
            "N:  (array([[1.        , 1.        , 1.        , 1.        , 1.        ,\n",
            "        1.        , 1.        , 1.        , 1.41421356]]), array([[1433,  629,  281,    8,  607,  797,  474,  277,   59]]))\n",
            "Predicted: good Data:  (3, 3, 2, 2, 2, 2) Actual:  good\n",
            "N:  (array([[1.        , 1.        , 1.        , 1.        , 1.        ,\n",
            "        1.        , 1.41421356, 1.41421356, 1.41421356]]), array([[ 123,  297, 1231,  927, 1412,  954, 1550,   78,  445]]))\n",
            "Predicted: good Data:  (1, 2, 1, 0, 0, 2) Actual:  good\n",
            "N:  (array([[1., 1., 1., 1., 1., 1., 1., 1., 1.]]), array([[ 337,  321,  612,  342, 1010, 1210, 1202,  326,  529]]))\n",
            "Predicted: good Data:  (3, 3, 2, 2, 1, 2) Actual:  good\n",
            "N:  (array([[1.        , 1.        , 1.        , 1.        , 1.        ,\n",
            "        1.41421356, 1.41421356, 1.41421356, 1.41421356]]), array([[ 484, 1103, 1550, 1366,  243,  679,  168,  954,  123]]))\n",
            "Predicted: unacc Data:  (2, 0, 2, 1, 1, 0) Actual:  unacc\n",
            "N:  (array([[1.        , 1.        , 1.        , 1.        , 1.        ,\n",
            "        1.        , 1.        , 1.        , 1.41421356]]), array([[ 678,  450, 1154, 1363, 1495,  569, 1029, 1191, 1020]]))\n",
            "Predicted: acc Data:  (1, 1, 3, 1, 0, 2) Actual:  acc\n",
            "N:  (array([[1., 1., 1., 1., 1., 1., 1., 1., 1.]]), array([[1017,   97, 1347,  102,   83,  570, 1195, 1041,  703]]))\n",
            "Predicted: unacc Data:  (1, 3, 3, 1, 0, 2) Actual:  unacc\n",
            "N:  (array([[1.        , 1.        , 1.        , 1.        , 1.        ,\n",
            "        1.        , 1.        , 1.41421356, 1.41421356]]), array([[1027, 1446,  102, 1538,  832, 1021, 1461,  327,  695]]))\n",
            "Predicted: good Data:  (3, 3, 1, 0, 1, 1) Actual:  good\n",
            "N:  (array([[1., 1., 1., 1., 1., 1., 1., 1., 1.]]), array([[ 186,  880,  419,  271, 1044,   99,  799,  487,  237]]))\n",
            "Predicted: good Data:  (1, 0, 0, 0, 1, 1) Actual:  good\n",
            "N:  (array([[1., 1., 1., 1., 1., 1., 1., 1., 1.]]), array([[1289,  328, 1383, 1498,  750, 1042,  270,  295, 1492]]))\n",
            "Predicted: good Data:  (2, 3, 1, 0, 1, 0) Actual:  good\n",
            "N:  (array([[1., 1., 1., 1., 1., 1., 1., 1., 1.]]), array([[ 264,  103,   99,  256,  918,  271, 1151, 1345,   30]]))\n",
            "Predicted: good Data:  (0, 0, 3, 0, 1, 2) Actual:  good\n",
            "N:  (array([[1.        , 1.        , 1.        , 1.        , 1.        ,\n",
            "        1.        , 1.        , 1.41421356, 1.41421356]]), array([[1482,  587,   16, 1102,  732, 1315, 1496,  782, 1409]]))\n",
            "Predicted: good Data:  (0, 3, 0, 2, 1, 1) Actual:  good\n",
            "N:  (array([[1.        , 1.        , 1.        , 1.        , 1.        ,\n",
            "        1.        , 1.        , 1.41421356, 1.41421356]]), array([[1237,  466,  939, 1489,  667,  489,  222,   32, 1377]]))\n",
            "Predicted: good Data:  (0, 2, 2, 0, 2, 1) Actual:  good\n",
            "N:  (array([[1.        , 1.        , 1.        , 1.        , 1.        ,\n",
            "        1.        , 1.        , 1.        , 1.41421356]]), array([[ 438,  655,  473,  339,  742,  847, 1040,  208, 1051]]))\n",
            "Predicted: good Data:  (3, 3, 3, 1, 2, 1) Actual:  good\n",
            "N:  (array([[1.        , 1.        , 1.        , 1.        , 1.        ,\n",
            "        1.        , 1.41421356, 1.41421356, 1.41421356]]), array([[1094,   33,   78, 1068, 1325,  356, 1033, 1056,  297]]))\n",
            "Predicted: good Data:  (2, 1, 3, 0, 2, 2) Actual:  good\n",
            "N:  (array([[1.        , 1.        , 1.        , 1.        , 1.        ,\n",
            "        1.        , 1.        , 1.41421356, 1.41421356]]), array([[  10, 1177, 1166,   89,  739,  881, 1268,   84,  972]]))\n",
            "Predicted: good Data:  (3, 3, 2, 0, 0, 0) Actual:  good\n",
            "N:  (array([[1.        , 1.        , 1.        , 1.        , 1.        ,\n",
            "        1.        , 1.41421356, 1.41421356, 1.41421356]]), array([[1133,  176, 1528,  763, 1192, 1373,  859,  103,  880]]))\n",
            "Predicted: good Data:  (0, 3, 0, 1, 0, 2) Actual:  good\n",
            "N:  (array([[1.        , 1.        , 1.        , 1.        , 1.        ,\n",
            "        1.        , 1.41421356, 1.41421356, 1.41421356]]), array([[1542,  498,  131,  924,  331,  309,  819,  169,  665]]))\n",
            "Predicted: good Data:  (3, 0, 0, 0, 0, 0) Actual:  good\n",
            "N:  (array([[1.        , 1.        , 1.        , 1.        , 1.        ,\n",
            "        1.        , 1.41421356, 1.41421356, 1.41421356]]), array([[1169,  913, 1341,  877,  835,  101,  530,  512, 1478]]))\n",
            "Predicted: unacc Data:  (3, 2, 2, 1, 1, 0) Actual:  unacc\n",
            "N:  (array([[1., 1., 1., 1., 1., 1., 1., 1., 1.]]), array([[  71,  508, 1526,  752, 1293, 1448,  824, 1080, 1297]]))\n",
            "Predicted: unacc Data:  (2, 1, 2, 1, 2, 2) Actual:  unacc\n",
            "N:  (array([[1., 1., 1., 1., 1., 1., 1., 1., 1.]]), array([[ 443,  244, 1100,  881,  559,  804,  975,   89, 1242]]))\n",
            "Predicted: good Data:  (3, 3, 2, 0, 1, 0) Actual:  good\n",
            "N:  (array([[1.        , 1.        , 1.        , 1.        , 1.        ,\n",
            "        1.        , 1.        , 1.41421356, 1.41421356]]), array([[ 103,  880, 1448,  762,   99,  752, 1183,  176,   76]]))\n",
            "Predicted: good Data:  (0, 3, 2, 0, 1, 0) Actual:  good\n",
            "N:  (array([[1.        , 1.        , 1.        , 1.        , 1.        ,\n",
            "        1.        , 1.        , 1.41421356, 1.41421356]]), array([[1051,   66,   77,  787, 1170,  247, 1352,  208, 1083]]))\n",
            "Predicted: good Data:  (0, 2, 2, 1, 1, 1) Actual:  good\n",
            "N:  (array([[1., 1., 1., 1., 1., 1., 1., 1., 1.]]), array([[ 742,  263, 1308,  674,  208,  485,  973, 1016,  848]]))\n",
            "Predicted: good Data:  (3, 1, 0, 1, 2, 0) Actual:  unacc\n",
            "N:  (array([[1.        , 1.        , 1.        , 1.        , 1.        ,\n",
            "        1.        , 1.        , 1.41421356, 1.41421356]]), array([[1262,  470, 1328,  509,  648,  114, 1455,  200,   34]]))\n",
            "Predicted: good Data:  (3, 3, 0, 0, 0, 2) Actual:  good\n",
            "N:  (array([[1.        , 1.        , 1.        , 1.        , 1.        ,\n",
            "        1.41421356, 1.41421356, 1.41421356, 1.41421356]]), array([[  70,  919, 1097, 1303, 1440,  237,  799, 1360,  163]]))\n",
            "Predicted: unacc Data:  (1, 0, 3, 2, 1, 2) Actual:  unacc\n",
            "N:  (array([[1.        , 1.        , 1.        , 1.        , 1.        ,\n",
            "        1.        , 1.        , 1.41421356, 1.41421356]]), array([[ 139,  837,  854,  573,  754,  935,  627,  705, 1553]]))\n",
            "Predicted: unacc Data:  (0, 0, 1, 1, 2, 0) Actual:  unacc\n",
            "N:  (array([[1.        , 1.        , 1.        , 1.        , 1.        ,\n",
            "        1.        , 1.        , 1.        , 1.41421356]]), array([[ 330,  276, 1442,   87,  562, 1099,  229, 1038, 1323]]))\n",
            "Predicted: good Data:  (3, 3, 2, 2, 1, 1) Actual:  good\n",
            "N:  (array([[1.        , 1.        , 1.        , 1.        , 1.        ,\n",
            "        1.        , 1.        , 1.41421356, 1.41421356]]), array([[ 123, 1445,  252, 1547,  874, 1055, 1488,  811,   78]]))\n",
            "Predicted: unacc Data:  (2, 0, 1, 2, 0, 0) Actual:  unacc\n",
            "N:  (array([[1.        , 1.        , 1.        , 1.        , 1.        ,\n",
            "        1.        , 1.        , 1.        , 1.41421356]]), array([[ 957, 1212, 1014,  399,  281,  364,  382,  797,  735]]))\n",
            "Predicted: good Data:  (1, 1, 1, 2, 0, 1) Actual:  good\n",
            "N:  (array([[1., 1., 1., 1., 1., 1., 1., 1., 1.]]), array([[ 888,  132, 1159,   55,  879, 1392,  672,  948,   64]]))\n",
            "Predicted: unacc Data:  (2, 1, 1, 2, 2, 0) Actual:  acc\n",
            "N:  (array([[1., 1., 1., 1., 1., 1., 1., 1., 1.]]), array([[1238,  698,  892,  707,  721,  606, 1134,  218, 1206]]))\n",
            "Predicted: good Data:  (0, 1, 2, 0, 2, 2) Actual:  good\n",
            "N:  (array([[1.        , 1.        , 1.        , 1.        , 1.        ,\n",
            "        1.        , 1.41421356, 1.41421356, 1.41421356]]), array([[ 239,   12, 1132, 1040,  145, 1227, 1482, 1071,  587]]))\n",
            "Predicted: good Data:  (3, 3, 3, 1, 1, 1) Actual:  good\n",
            "N:  (array([[1.        , 1.        , 1.        , 1.        , 1.        ,\n",
            "        1.        , 1.        , 1.        , 1.41421356]]), array([[ 771,  773,  146, 1322, 1445, 1547, 1033, 1056,  715]]))\n",
            "Predicted: unacc Data:  (1, 2, 3, 2, 2, 0) Actual:  acc\n",
            "N:  (array([[1.        , 1.        , 1.        , 1.        , 1.        ,\n",
            "        1.        , 1.        , 1.        , 1.41421356]]), array([[ 463,  219, 1518, 1339,   60,  527,  595,  298,   69]]))\n",
            "Predicted: good Data:  (1, 0, 1, 0, 1, 0) Actual:  good\n",
            "N:  (array([[1., 1., 1., 1., 1., 1., 1., 1., 1.]]), array([[1087, 1043, 1492,  277,  642, 1383,  933,  432,    8]]))\n",
            "Predicted: good Data:  (3, 1, 0, 1, 2, 2) Actual:  good\n",
            "N:  (array([[1.        , 1.        , 1.        , 1.        , 1.        ,\n",
            "        1.        , 1.        , 1.41421356, 1.41421356]]), array([[1349, 1264,   93,  680,  465, 1178,  550,  454,  363]]))\n",
            "Predicted: unacc Data:  (0, 2, 2, 1, 1, 0) Actual:  unacc\n",
            "N:  (array([[1.        , 1.        , 1.        , 1.        , 1.        ,\n",
            "        1.        , 1.        , 1.        , 1.41421356]]), array([[ 805,   88,  147, 1048,  938,  247,  951,  140,  973]]))\n",
            "Predicted: good Data:  (0, 2, 3, 2, 2, 2) Actual:  good\n",
            "N:  (array([[1.        , 1.        , 1.        , 1.        , 1.        ,\n",
            "        1.41421356, 1.41421356, 1.41421356, 1.41421356]]), array([[1248, 1143, 1074,  988, 1463,  693,  444, 1117, 1516]]))\n",
            "Predicted: good Data:  (3, 2, 3, 1, 2, 1) Actual:  good\n",
            "N:  (array([[1.        , 1.        , 1.        , 1.        , 1.        ,\n",
            "        1.        , 1.        , 1.        , 1.41421356]]), array([[ 516,   75, 1322, 1305,   98, 1236, 1031,  235,  109]]))\n",
            "Predicted: unacc Data:  (1, 2, 0, 1, 0, 2) Actual:  acc\n",
            "N:  (array([[1., 1., 1., 1., 1., 1., 1., 1., 1.]]), array([[1010,  937,  420, 1542,  131,  961, 1284,  624,  529]]))\n",
            "Predicted: good Data:  (0, 3, 3, 0, 1, 1) Actual:  good\n",
            "N:  (array([[1.        , 1.        , 1.        , 1.        , 1.        ,\n",
            "        1.        , 1.        , 1.        , 1.41421356]]), array([[ 497,   51, 1051, 1312, 1145,  996, 1352,  375,  920]]))\n",
            "Predicted: unacc Data:  (2, 3, 2, 2, 1, 2) Actual:  unacc\n",
            "N:  (array([[1.        , 1.        , 1.        , 1.        , 1.        ,\n",
            "        1.        , 1.        , 1.41421356, 1.41421356]]), array([[1055, 1401,  994, 1144,  954,  168,  679, 1550, 1421]]))\n",
            "Predicted: good Data:  (2, 3, 1, 0, 2, 1) Actual:  good\n",
            "N:  (array([[1., 1., 1., 1., 1., 1., 1., 1., 1.]]), array([[ 271,   47, 1282,  149,  566, 1151, 1044,  159, 1515]]))\n",
            "Predicted: good Data:  (0, 2, 3, 0, 0, 1) Actual:  good\n",
            "N:  (array([[1.        , 1.        , 1.        , 1.        , 1.        ,\n",
            "        1.        , 1.        , 1.        , 1.41421356]]), array([[ 561,  996, 1257, 1058,  317,  524,  117,  375,  327]]))\n",
            "Predicted: good Data:  (2, 0, 2, 0, 2, 1) Actual:  good\n",
            "N:  (array([[1., 1., 1., 1., 1., 1., 1., 1., 1.]]), array([[1222,  748, 1316, 1552, 1467,  265,   50, 1069,  161]]))\n",
            "Predicted: good Data:  (0, 2, 0, 0, 1, 2) Actual:  good\n",
            "N:  (array([[1.        , 1.        , 1.        , 1.        , 1.        ,\n",
            "        1.        , 1.        , 1.41421356, 1.41421356]]), array([[1039,  362,  626, 1243, 1261,  116, 1254,  661, 1554]]))\n",
            "Predicted: good Data:  (0, 1, 0, 0, 1, 2) Actual:  good\n",
            "N:  (array([[1.        , 1.        , 1.        , 1.        , 1.        ,\n",
            "        1.        , 1.        , 1.41421356, 1.41421356]]), array([[ 962,  152, 1181,  706,  360,  661, 1190,  272,  401]]))\n",
            "Predicted: good Data:  (3, 3, 0, 0, 2, 2) Actual:  good\n",
            "N:  (array([[1.        , 1.        , 1.        , 1.        , 1.        ,\n",
            "        1.        , 1.41421356, 1.41421356, 1.41421356]]), array([[ 279,  451, 1306,  919,  412, 1499,  237, 1360, 1515]]))\n",
            "Predicted: unacc Data:  (1, 0, 2, 2, 1, 2) Actual:  unacc\n",
            "N:  (array([[1.        , 1.        , 1.        , 1.        , 1.        ,\n",
            "        1.        , 1.        , 1.41421356, 1.41421356]]), array([[1155,  133, 1265,  932,  579, 1553, 1276, 1451,  128]]))\n",
            "Predicted: good Data:  (1, 2, 2, 2, 0, 1) Actual:  good\n",
            "N:  (array([[1., 1., 1., 1., 1., 1., 1., 1., 1.]]), array([[1003,   55, 1121,  823, 1251, 1507,  755,  865,  628]]))\n",
            "Predicted: good Data:  (0, 3, 0, 2, 1, 2) Actual:  good\n",
            "N:  (array([[1.        , 1.        , 1.        , 1.        , 1.        ,\n",
            "        1.        , 1.41421356, 1.41421356, 1.41421356]]), array([[1059,  924,  478, 1259, 1270,  309,  641,   72,  489]]))\n",
            "Predicted: good Data:  (3, 3, 0, 2, 1, 2) Actual:  good\n",
            "N:  (array([[1.        , 1.        , 1.        , 1.        , 1.        ,\n",
            "        1.        , 1.        , 1.41421356, 1.41421356]]), array([[ 737,  699, 1512, 1168, 1550,  894,  400, 1427,  927]]))\n",
            "Predicted: good Data:  (2, 1, 0, 2, 2, 1) Actual:  good\n",
            "N:  (array([[1.        , 1.        , 1.        , 1.        , 1.        ,\n",
            "        1.        , 1.        , 1.        , 1.41421356]]), array([[1215, 1206,   92,  191,    2,  560,  218, 1370, 1376]]))\n",
            "Predicted: good Data:  (0, 1, 0, 0, 2, 0) Actual:  good\n",
            "N:  (array([[1.        , 1.        , 1.        , 1.        , 1.        ,\n",
            "        1.41421356, 1.41421356, 1.41421356, 1.41421356]]), array([[ 166,  861, 1327, 1426,  815,  152,  622,  562,  910]]))\n",
            "Predicted: acc Data:  (1, 1, 1, 1, 2, 0) Actual:  acc\n",
            "N:  (array([[1., 1., 1., 1., 1., 1., 1., 1., 1.]]), array([[ 707, 1501, 1099,  606, 1300, 1204, 1523,  562,  519]]))\n",
            "Predicted: good Data:  (2, 0, 3, 1, 0, 1) Actual:  good\n",
            "N:  (array([[1.        , 1.        , 1.        , 1.        , 1.        ,\n",
            "        1.        , 1.        , 1.41421356, 1.41421356]]), array([[ 878,  778,   27,  604, 1299,   56,  436, 1335, 1085]]))\n",
            "Predicted: good Data:  (1, 2, 0, 2, 2, 2) Actual:  good\n",
            "N:  (array([[1.        , 1.        , 1.        , 1.        , 1.        ,\n",
            "        1.        , 1.        , 1.        , 1.41421356]]), array([[1000, 1294,  535,  868, 1084, 1156,   67,  641, 1270]]))\n",
            "Predicted: good Data:  (3, 0, 1, 2, 1, 0) Actual:  good\n",
            "N:  (array([[1.        , 1.        , 1.        , 1.        , 1.        ,\n",
            "        1.        , 1.        , 1.41421356, 1.41421356]]), array([[607,  80, 322, 281, 711, 575, 957, 599, 709]]))\n",
            "Predicted: acc Data:  (2, 1, 1, 2, 0, 2) Actual:  acc\n",
            "N:  (array([[1., 1., 1., 1., 1., 1., 1., 1., 1.]]), array([[ 691,  255,  238,  672, 1449,  821,  687,  132,  769]]))\n",
            "Predicted: good Data:  (0, 3, 3, 1, 2, 1) Actual:  good\n",
            "N:  (array([[1.        , 1.        , 1.        , 1.        , 1.        ,\n",
            "        1.        , 1.        , 1.        , 1.41421356]]), array([[1379,   51,   74,  305,  444, 1516,   62, 1145, 1216]]))\n",
            "Predicted: unacc Data:  (0, 1, 3, 1, 0, 0) Actual:  unacc\n",
            "N:  (array([[1.        , 1.        , 1.        , 1.        , 1.        ,\n",
            "        1.        , 1.        , 1.        , 1.41421356]]), array([[ 178,  390, 1023,  355, 1209,  467,   18,  100,  593]]))\n",
            "Predicted: good Data:  (0, 3, 3, 2, 2, 2) Actual:  good\n",
            "N:  (array([[1.        , 1.        , 1.        , 1.        , 1.        ,\n",
            "        1.41421356, 1.41421356, 1.41421356, 1.41421356]]), array([[ 693, 1516,  631, 1318,   62, 1143, 1463, 1248,  457]]))\n",
            "Predicted: good Data:  (3, 3, 3, 2, 0, 2) Actual:  good\n",
            "N:  (array([[1.        , 1.        , 1.        , 1.        , 1.        ,\n",
            "        1.        , 1.41421356, 1.41421356, 1.41421356]]), array([[  79,  917,  434,  243,  715, 1366,  183, 1144, 1488]]))\n",
            "Predicted: good Data:  (0, 3, 1, 1, 0, 2) Actual:  good\n",
            "N:  (array([[1.        , 1.        , 1.        , 1.        , 1.        ,\n",
            "        1.        , 1.        , 1.41421356, 1.41421356]]), array([[  49,  665, 1483,   72,  288,  614,  334,  529, 1210]]))\n",
            "Predicted: good Data:  (3, 1, 1, 0, 0, 2) Actual:  good\n",
            "N:  (array([[1.        , 1.        , 1.        , 1.        , 1.        ,\n",
            "        1.        , 1.        , 1.        , 1.41421356]]), array([[1223,  417,  556,  241,  163,  389, 1477,  761, 1064]]))\n",
            "Predicted: good Data:  (3, 3, 0, 1, 0, 0) Actual:  good\n",
            "N:  (array([[1.        , 1.        , 1.        , 1.        , 1.        ,\n",
            "        1.        , 1.        , 1.41421356, 1.41421356]]), array([[1241, 1184,  306, 1207,  882,  798, 1432,  677,  634]]))\n",
            "Predicted: good Data:  (2, 1, 0, 2, 2, 2) Actual:  good\n",
            "N:  (array([[1.        , 1.        , 1.        , 1.        , 1.        ,\n",
            "        1.        , 1.        , 1.41421356, 1.41421356]]), array([[ 346,  464,  868,  550, 1084,  680, 1292,  794, 1206]]))\n",
            "Predicted: good Data:  (3, 1, 3, 1, 1, 1) Actual:  good\n",
            "N:  (array([[1., 1., 1., 1., 1., 1., 1., 1., 1.]]), array([[ 733, 1322, 1480, 1185,  340,  970, 1305,  885, 1396]]))\n",
            "Predicted: acc Data:  (1, 2, 2, 2, 0, 2) Actual:  acc\n",
            "N:  (array([[1.        , 1.        , 1.        , 1.        , 1.        ,\n",
            "        1.        , 1.41421356, 1.41421356, 1.41421356]]), array([[ 262,  963,  956,  483,  214, 1201,  586,  102,  628]]))\n",
            "Predicted: good Data:  (2, 3, 0, 1, 2, 1) Actual:  good\n",
            "N:  (array([[1., 1., 1., 1., 1., 1., 1., 1., 1.]]), array([[1171,  969, 1282, 1460, 1255,  231, 1515,  447,  966]]))\n",
            "Predicted: good Data:  (3, 2, 2, 1, 0, 1) Actual:  good\n",
            "N:  (array([[1., 1., 1., 1., 1., 1., 1., 1., 1.]]), array([[  71,  316, 1293,  553,  565,  704,  242,  537, 1273]]))\n"
          ]
        }
      ]
    }
  ]
}